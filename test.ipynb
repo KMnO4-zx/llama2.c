{
 "cells": [
  {
   "cell_type": "code",
   "execution_count": 2,
   "metadata": {},
   "outputs": [],
   "source": [
    "import torch\n",
    "\n",
    "from model import precompute_freqs_cis, apply_rotary_emb"
   ]
  },
  {
   "cell_type": "code",
   "execution_count": 4,
   "metadata": {},
   "outputs": [
    {
     "name": "stdout",
     "output_type": "stream",
     "text": [
      "torch.Size([50, 144]) torch.Size([50, 144])\n"
     ]
    },
    {
     "ename": "AssertionError",
     "evalue": "",
     "output_type": "error",
     "traceback": [
      "\u001b[1;31m---------------------------------------------------------------------------\u001b[0m",
      "\u001b[1;31mAssertionError\u001b[0m                            Traceback (most recent call last)",
      "Cell \u001b[1;32mIn[4], line 10\u001b[0m\n\u001b[0;32m      8\u001b[0m cos, sin \u001b[38;5;241m=\u001b[39m precompute_freqs_cis(\u001b[38;5;241m288\u001b[39m, \u001b[38;5;241m50\u001b[39m)\n\u001b[0;32m      9\u001b[0m \u001b[38;5;28mprint\u001b[39m(cos\u001b[38;5;241m.\u001b[39mshape, sin\u001b[38;5;241m.\u001b[39mshape)\n\u001b[1;32m---> 10\u001b[0m xq_out, xk_out \u001b[38;5;241m=\u001b[39m \u001b[43mapply_rotary_emb\u001b[49m\u001b[43m(\u001b[49m\u001b[43mxq\u001b[49m\u001b[43m,\u001b[49m\u001b[43m \u001b[49m\u001b[43mxk\u001b[49m\u001b[43m,\u001b[49m\u001b[43m \u001b[49m\u001b[43mcos\u001b[49m\u001b[43m,\u001b[49m\u001b[43m \u001b[49m\u001b[43msin\u001b[49m\u001b[43m)\u001b[49m\n\u001b[0;32m     12\u001b[0m xq_out\u001b[38;5;241m.\u001b[39mshape, xk_out\u001b[38;5;241m.\u001b[39mshape\n",
      "File \u001b[1;32mg:\\WorkSpace\\github项目\\llama2.c\\model.py:68\u001b[0m, in \u001b[0;36mapply_rotary_emb\u001b[1;34m(xq, xk, freqs_cos, freqs_sin)\u001b[0m\n\u001b[0;32m     65\u001b[0m xk_r, xk_i \u001b[38;5;241m=\u001b[39m xk\u001b[38;5;241m.\u001b[39mfloat()\u001b[38;5;241m.\u001b[39mreshape(xk\u001b[38;5;241m.\u001b[39mshape[:\u001b[38;5;241m-\u001b[39m\u001b[38;5;241m1\u001b[39m] \u001b[38;5;241m+\u001b[39m (\u001b[38;5;241m-\u001b[39m\u001b[38;5;241m1\u001b[39m, \u001b[38;5;241m2\u001b[39m))\u001b[38;5;241m.\u001b[39munbind(\u001b[38;5;241m-\u001b[39m\u001b[38;5;241m1\u001b[39m)\n\u001b[0;32m     67\u001b[0m \u001b[38;5;66;03m# reshape freqs_cos and freqs_sin for broadcasting\u001b[39;00m\n\u001b[1;32m---> 68\u001b[0m freqs_cos \u001b[38;5;241m=\u001b[39m \u001b[43mreshape_for_broadcast\u001b[49m\u001b[43m(\u001b[49m\u001b[43mfreqs_cos\u001b[49m\u001b[43m,\u001b[49m\u001b[43m \u001b[49m\u001b[43mxq_r\u001b[49m\u001b[43m)\u001b[49m\n\u001b[0;32m     69\u001b[0m freqs_sin \u001b[38;5;241m=\u001b[39m reshape_for_broadcast(freqs_sin, xq_r)\n\u001b[0;32m     71\u001b[0m \u001b[38;5;66;03m# apply rotation using real numbers\u001b[39;00m\n",
      "File \u001b[1;32mg:\\WorkSpace\\github项目\\llama2.c\\model.py:52\u001b[0m, in \u001b[0;36mreshape_for_broadcast\u001b[1;34m(freqs_cis, x)\u001b[0m\n\u001b[0;32m     50\u001b[0m ndim \u001b[38;5;241m=\u001b[39m x\u001b[38;5;241m.\u001b[39mndim\n\u001b[0;32m     51\u001b[0m \u001b[38;5;28;01massert\u001b[39;00m \u001b[38;5;241m0\u001b[39m \u001b[38;5;241m<\u001b[39m\u001b[38;5;241m=\u001b[39m \u001b[38;5;241m1\u001b[39m \u001b[38;5;241m<\u001b[39m ndim\n\u001b[1;32m---> 52\u001b[0m \u001b[38;5;28;01massert\u001b[39;00m freqs_cis\u001b[38;5;241m.\u001b[39mshape \u001b[38;5;241m==\u001b[39m (x\u001b[38;5;241m.\u001b[39mshape[\u001b[38;5;241m1\u001b[39m], x\u001b[38;5;241m.\u001b[39mshape[\u001b[38;5;241m-\u001b[39m\u001b[38;5;241m1\u001b[39m])\n\u001b[0;32m     53\u001b[0m shape \u001b[38;5;241m=\u001b[39m [d \u001b[38;5;28;01mif\u001b[39;00m i \u001b[38;5;241m==\u001b[39m \u001b[38;5;241m1\u001b[39m \u001b[38;5;129;01mor\u001b[39;00m i \u001b[38;5;241m==\u001b[39m ndim \u001b[38;5;241m-\u001b[39m \u001b[38;5;241m1\u001b[39m \u001b[38;5;28;01melse\u001b[39;00m \u001b[38;5;241m1\u001b[39m \u001b[38;5;28;01mfor\u001b[39;00m i, d \u001b[38;5;129;01min\u001b[39;00m \u001b[38;5;28menumerate\u001b[39m(x\u001b[38;5;241m.\u001b[39mshape)]\n\u001b[0;32m     54\u001b[0m \u001b[38;5;28;01mreturn\u001b[39;00m freqs_cis\u001b[38;5;241m.\u001b[39mview(shape)\n",
      "\u001b[1;31mAssertionError\u001b[0m: "
     ]
    }
   ],
   "source": [
    "# 根据上述代码 为apply_rotary_emb函数写一个测试案例\n",
    "\n",
    "xq = torch.randn(1, 50, 6, 48) # bs, seq_len, dim\n",
    "xk = torch.randn(1, 50, 6, 48) # bs, seq_len, dim\n",
    "\n",
    "# 使用 precompute_freqs_cis 函数获取 sin和cos\n",
    "\n",
    "cos, sin = precompute_freqs_cis(288, 50)\n",
    "print(cos.shape, sin.shape)\n",
    "xq_out, xk_out = apply_rotary_emb(xq, xk, cos, sin)\n",
    "\n",
    "xq_out.shape, xk_out.shape"
   ]
  },
  {
   "cell_type": "code",
   "execution_count": null,
   "metadata": {},
   "outputs": [],
   "source": []
  }
 ],
 "metadata": {
  "kernelspec": {
   "display_name": "nlp",
   "language": "python",
   "name": "python3"
  },
  "language_info": {
   "codemirror_mode": {
    "name": "ipython",
    "version": 3
   },
   "file_extension": ".py",
   "mimetype": "text/x-python",
   "name": "python",
   "nbconvert_exporter": "python",
   "pygments_lexer": "ipython3",
   "version": "3.10.12"
  }
 },
 "nbformat": 4,
 "nbformat_minor": 2
}
