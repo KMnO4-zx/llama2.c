{
 "cells": [
  {
   "cell_type": "code",
   "execution_count": 31,
   "metadata": {},
   "outputs": [],
   "source": [
    "import math\n",
    "import struct\n",
    "import inspect\n",
    "from dataclasses import dataclass\n",
    "from typing import Any, Optional, Tuple\n",
    "\n",
    "import numpy as np\n",
    "import torch\n",
    "import torch.nn.functional as F\n",
    "from torch import nn"
   ]
  },
  {
   "cell_type": "code",
   "execution_count": 32,
   "metadata": {},
   "outputs": [],
   "source": [
    "@dataclass\n",
    "class ModelArgs:\n",
    "    # default hyperparameters for the Llama 7B model\n",
    "    dim: int = 4096  # 模型维度\n",
    "    n_layers: int = 32  # Transformer层数\n",
    "    n_heads: int = 32  # 注意力机制的头数\n",
    "    n_kv_heads: Optional[int] = None  # 键/值头数，如果未指定，则默认为n_heads\n",
    "    vocab_size: int = 32000  # 词汇表大小\n",
    "    hidden_dim: Optional[int] = None  # 隐藏层维度，如果未指定，则使用其他规则确定\n",
    "    multiple_of: int = 256  # MLP隐藏层大小是这个数的倍数\n",
    "    norm_eps: float = 1e-5  # 归一化层的epsilon值\n",
    "    max_seq_len: int = 2048  # 最大序列长度\n",
    "    dropout: float = 0.0  # 丢弃率"
   ]
  },
  {
   "cell_type": "code",
   "execution_count": 33,
   "metadata": {},
   "outputs": [],
   "source": [
    "args = ModelArgs()"
   ]
  },
  {
   "cell_type": "markdown",
   "metadata": {},
   "source": [
    "Llama2的RMSNorm层的公式如下：\n",
    "\n",
    "$$\\text{RMSNorm}(x) = \\frac{x}{\\sqrt{\\frac{1}{n}\\sum_{i=1}^{n}w_i^2 + \\epsilon}}$$\n",
    "\n",
    "其中：\n",
    "\n",
    "- ( $x$ ) 是层的输入。\n",
    "- ( $w_i$ ) 代表层的权重。\n",
    "- ( $n$ ) 是权重的数量。\n",
    "- ( $\\epsilon$ ) 是一个小常数，用于数值稳定性（以避免除以零的情况）。"
   ]
  },
  {
   "cell_type": "code",
   "execution_count": 34,
   "metadata": {},
   "outputs": [],
   "source": [
    "class RMSNorm(torch.nn.Module):\n",
    "    def __init__(self, dim: int, eps: float):\n",
    "        super().__init__()\n",
    "        self.eps = eps\n",
    "        self.weight = nn.Parameter(torch.ones(dim))\n",
    "\n",
    "    def _norm(self, x):\n",
    "        return x * torch.rsqrt(x.pow(2).mean(-1, keepdim=True) + self.eps)\n",
    "\n",
    "    def forward(self, x):\n",
    "        output = self._norm(x.float()).type_as(x)\n",
    "        return output * self.weight"
   ]
  },
  {
   "cell_type": "code",
   "execution_count": 35,
   "metadata": {},
   "outputs": [],
   "source": [
    "norm = RMSNorm(dim=args.dim, eps=args.norm_eps)"
   ]
  },
  {
   "cell_type": "code",
   "execution_count": 63,
   "metadata": {},
   "outputs": [
    {
     "name": "stdout",
     "output_type": "stream",
     "text": [
      "torch.Size([1, 50, 4096])\n",
      "torch.Size([1, 50, 4096])\n"
     ]
    }
   ],
   "source": [
    "# 写一个关于norm的测试\n",
    "\n",
    "x = torch.randn(1, 50, 4096) # bs, seq_len, dim\n",
    "print(x.shape)\n",
    "print(norm(x).shape)"
   ]
  },
  {
   "cell_type": "markdown",
   "metadata": {},
   "source": [
    "假设 $\\text{dim}$ 是输入维度，$\\text{end}$ 是序列的长度，$\\theta$ 是比例因子（默认为 10000.0）。\n",
    "\n",
    "1. **频率计算**:\n",
    "   $$\\text{freqs} = \\frac{1}{\\theta^{\\frac{2i}{\\text{dim}}}}$$\n",
    "   其中 $i = 0, 1, 2, ..., \\frac{\\text{dim}}{2} - 1$。\n",
    "\n",
    "2. **时间序列与频率的外积**:\n",
    "   创建一个从 0 到 $\\text{end} - 1$ 的时间序列$t$，并计算 $t$ 和 $\\text{freqs}$ 的外积得到频率矩阵。\n",
    "\n",
    "3. **余弦和正弦值计算**:\n",
    "   - 余弦值：$\\text{freqs\\_cos} = \\cos(\\text{freqs\\_matrix})$\n",
    "   - 正弦值：$\\text{freqs\\_sin} = \\sin(\\text{freqs\\_matrix})$\n",
    "\n",
    "其中，$\\text{freqs\\_matrix}$ 是时间序列 $t$ 和频率$ \\text{freqs}$ 的外积的结果。\n",
    "\n",
    "\n",
    "这个例子首先定义了函数 `precompute_freqs_cis`。然后，它设置了维度 `dim` 为 10，序列长度 `end` 为 5，并保持默认的比例因子$\\theta = 10000.0$。通过调用这个函数并传入这些参数，它计算了序列中每个位置的余弦和正弦值。最后，这个例子打印了这些计算得到的余弦和正弦值矩阵。\n",
    "\n",
    "这种预计算的余弦和正弦值可以用于例如 Transformer 模型中的位置编码，以提供位置信息，帮助模型理解输入数据中元素的顺序关系。"
   ]
  },
  {
   "cell_type": "code",
   "execution_count": 37,
   "metadata": {},
   "outputs": [],
   "source": [
    "def precompute_freqs_cis(dim: int, end: int, theta: float = 10000.0):\n",
    "    freqs = 1.0 / (theta ** (torch.arange(0, dim, 2)[: (dim // 2)].float() / dim))\n",
    "    t = torch.arange(end, device=freqs.device)  # type: ignore\n",
    "    freqs = torch.outer(t, freqs).float()  # type: ignore\n",
    "    freqs_cos = torch.cos(freqs)  # real part\n",
    "    freqs_sin = torch.sin(freqs)  # imaginary part\n",
    "    return freqs_cos, freqs_sin"
   ]
  },
  {
   "cell_type": "code",
   "execution_count": 38,
   "metadata": {},
   "outputs": [
    {
     "data": {
      "text/plain": [
       "(torch.Size([2048]), torch.Size([50]), torch.Size([50, 2048]))"
      ]
     },
     "execution_count": 38,
     "metadata": {},
     "output_type": "execute_result"
    }
   ],
   "source": [
    "theta=10000.0\n",
    "dim=4096\n",
    "end=50\n",
    "\n",
    "freqs = 1.0 / (theta ** (torch.arange(0, dim, 2)[: (dim // 2)].float() / dim))\n",
    "t = torch.arange(end, device=freqs.device)\n",
    "res = torch.outer(t, freqs).float() \n",
    "freqs.shape, t.shape, res.shape"
   ]
  },
  {
   "cell_type": "code",
   "execution_count": 39,
   "metadata": {},
   "outputs": [
    {
     "data": {
      "text/plain": [
       "(torch.Size([50, 2048]), torch.Size([50, 2048]))"
      ]
     },
     "execution_count": 39,
     "metadata": {},
     "output_type": "execute_result"
    }
   ],
   "source": [
    "cos, sin = precompute_freqs_cis(4096, 50)\n",
    "cos.shape, sin.shape    "
   ]
  },
  {
   "cell_type": "markdown",
   "metadata": {},
   "source": [
    "## reshape_for_broadcast 函数\n",
    "\n",
    "主要作用： 该函数的目的是为了将频率的余弦（cos）和正弦（sin）张量重新塑形（reshape），使其能够在后续的旋转操作中通过广播机制与查询（query）或键（key）张量进行元素级的乘法操作。广播是一种在不同形状的张量之间进行数学运算的方式，能够自动扩展张量的形状以匹配操作的需求。"
   ]
  },
  {
   "cell_type": "code",
   "execution_count": 40,
   "metadata": {},
   "outputs": [],
   "source": [
    "def reshape_for_broadcast(freqs_cis: torch.Tensor, x: torch.Tensor):\n",
    "    ndim = x.ndim  # 获取x的维度数量\n",
    "    assert 0 <= 1 < ndim  # 确保x至少有两个维度\n",
    "    assert freqs_cis.shape == (x.shape[1], x.shape[-1])  # 确保频率张量的形状与x的第二个维度和最后一个维度匹配\n",
    "    shape = [d if i == 1 or i == ndim - 1 else 1 for i, d in enumerate(x.shape)]  # 生成一个新的形状，除了第二个和最后一个维度，其他维度设置为1\n",
    "    return freqs_cis.view(shape)  # 返回重新塑形的频率张量"
   ]
  },
  {
   "cell_type": "markdown",
   "metadata": {},
   "source": [
    "## apply_rotary_emb 函数\n",
    "\n",
    "主要作用： 该函数实现了旋转位置编码的应用过程。它首先将查询（query）和键（key）张量转换为复数形式（这里使用实部和虚部的形式分别表示），然后利用传入的余弦和正弦频率张量对它们进行旋转，最后将旋转后的结果转换回原来的形状。这个过程可以增强模型对每个位置信息的感知能力，从而提高处理序列数据的性能。"
   ]
  },
  {
   "cell_type": "code",
   "execution_count": 41,
   "metadata": {},
   "outputs": [],
   "source": [
    "def apply_rotary_emb(\n",
    "    xq: torch.Tensor,\n",
    "    xk: torch.Tensor,\n",
    "    freqs_cos: torch.Tensor,\n",
    "    freqs_sin: torch.Tensor\n",
    ") -> Tuple[torch.Tensor, torch.Tensor]:\n",
    "\n",
    "    # 将查询和键张量转换为浮点数，并重塑形状以分离实部和虚部\n",
    "    xq_r, xq_i = xq.float().reshape(xq.shape[:-1] + (-1, 2)).unbind(-1)\n",
    "    xk_r, xk_i = xk.float().reshape(xk.shape[:-1] + (-1, 2)).unbind(-1)\n",
    "\n",
    "    # 重新塑形频率张量以进行广播\n",
    "    freqs_cos = reshape_for_broadcast(freqs_cos, xq_r)\n",
    "    freqs_sin = reshape_for_broadcast(freqs_sin, xq_r)\n",
    "\n",
    "    # 应用旋转，分别计算旋转后的实部和虚部\n",
    "    xq_out_r = xq_r * freqs_cos - xq_i * freqs_sin\n",
    "    xq_out_i = xq_r * freqs_sin + xq_i * freqs_cos\n",
    "    xk_out_r = xk_r * freqs_cos - xk_i * freqs_sin\n",
    "    xk_out_i = xk_r * freqs_sin + xk_i * freqs_cos\n",
    "\n",
    "    # 将最后两个维度合并，并还原为原始张量的形状\n",
    "    xq_out = torch.stack([xq_out_r, xq_out_i], dim=-1).flatten(3)\n",
    "    xk_out = torch.stack([xk_out_r, xk_out_i], dim=-1).flatten(3)\n",
    "\n",
    "    return xq_out.type_as(xq), xk_out.type_as(xk)"
   ]
  },
  {
   "cell_type": "code",
   "execution_count": 62,
   "metadata": {},
   "outputs": [
    {
     "name": "stdout",
     "output_type": "stream",
     "text": [
      "torch.Size([50, 144]) torch.Size([50, 144])\n"
     ]
    },
    {
     "data": {
      "text/plain": [
       "(torch.Size([1, 50, 144, 2]), torch.Size([1, 50, 144, 2]))"
      ]
     },
     "execution_count": 62,
     "metadata": {},
     "output_type": "execute_result"
    }
   ],
   "source": [
    "# 根据上述代码 为apply_rotary_emb函数写一个测试案例\n",
    "\n",
    "xq = torch.randn(1, 50, 288) # bs, seq_len, dim\n",
    "xk = torch.randn(1, 50, 288) # bs, seq_len, dim\n",
    "\n",
    "# 使用 precompute_freqs_cis 函数获取 sin和cos\n",
    "\n",
    "cos, sin = precompute_freqs_cis(288, 50)\n",
    "print(cos.shape, sin.shape)\n",
    "xq_out, xk_out = apply_rotary_emb(xq, xk, cos, sin)\n",
    "\n",
    "xq_out.shape, xk_out.shape"
   ]
  },
  {
   "cell_type": "markdown",
   "metadata": {},
   "source": [
    "## repeat_kv\n",
    "\n",
    "根据 n_rep 参数的值重复每个键（key）和值（value）元素。如果 n_rep 为1，表示不需要重复，直接返回原始张量。如果 n_rep 大于1，函数会将输入张量 x 在特定的维度上重复 n_rep 次，然后重新组织张量的形状以适应重复后的结构。\n",
    "\n",
    "输入张量 x 在键/值维度 (n_kv_heads) 上被重复了 n_rep 次，且这种重复是在不改变其他维度（如批量大小、序列长度、头的维度）的情况下实现的。这使得在 Transformer 模型中可以灵活地调整键和值的数量，以适应不同的模型架构或实验设置。"
   ]
  },
  {
   "cell_type": "code",
   "execution_count": 43,
   "metadata": {},
   "outputs": [],
   "source": [
    "def repeat_kv(x: torch.Tensor, n_rep: int) -> torch.Tensor:\n",
    "    # 获取输入张量的形状：批量大小、序列长度、键/值对头的数量、每个头的维度大小\n",
    "    bs, slen, n_kv_heads, head_dim = x.shape\n",
    "    \n",
    "    # 如果重复次数为1，则不需要重复，直接返回原始张量\n",
    "    if n_rep == 1:\n",
    "        return x\n",
    "    \n",
    "    # 对张量进行扩展和重塑操作以重复键值对\n",
    "    return (\n",
    "        x[:, :, :, None, :]  # 在第四个维度（头的维度前）添加一个新的维度\n",
    "        .expand(bs, slen, n_kv_heads, n_rep, head_dim)  # 将新添加的维度扩展到n_rep大小，实现重复的效果\n",
    "        .reshape(bs, slen, n_kv_heads * n_rep, head_dim)  # 重新塑形，合并键/值对头的数量和重复次数的维度\n",
    "    )\n"
   ]
  },
  {
   "cell_type": "markdown",
   "metadata": {},
   "source": [
    "## Attention"
   ]
  },
  {
   "cell_type": "code",
   "execution_count": 44,
   "metadata": {},
   "outputs": [],
   "source": [
    "class Attention(nn.Module):\n",
    "    def __init__(self, args: ModelArgs):\n",
    "        super().__init__()\n",
    "        # 根据是否指定n_kv_heads，确定用于键（key）和值（value）的头的数量。\n",
    "        self.n_kv_heads = args.n_heads if args.n_kv_heads is None else args.n_kv_heads\n",
    "        # 确保总头数可以被键值头数整除。\n",
    "        assert args.n_heads % self.n_kv_heads == 0\n",
    "\n",
    "        # 模型并行处理大小，默认为1。\n",
    "        model_parallel_size = 1\n",
    "        # 本地计算头数，等于总头数除以模型并行处理大小。\n",
    "        self.n_local_heads = args.n_heads // model_parallel_size\n",
    "        # 本地键值头数，等于键值头数除以模型并行处理大小。\n",
    "        self.n_local_kv_heads = self.n_kv_heads // model_parallel_size\n",
    "        # 重复次数，用于扩展键和值的尺寸。\n",
    "        self.n_rep = self.n_local_heads // self.n_local_kv_heads\n",
    "        # 每个头的维度，等于模型维度除以头的总数。\n",
    "        self.head_dim = args.dim // args.n_heads\n",
    "\n",
    "        # 定义权重矩阵。\n",
    "        self.wq = nn.Linear(args.dim, args.n_heads * self.head_dim, bias=False)\n",
    "        self.wk = nn.Linear(args.dim, self.n_kv_heads * self.head_dim, bias=False)\n",
    "        self.wv = nn.Linear(args.dim, self.n_kv_heads * self.head_dim, bias=False)\n",
    "        # 输出权重矩阵。\n",
    "        self.wo = nn.Linear(args.n_heads * self.head_dim, args.dim, bias=False)\n",
    "\n",
    "        # 定义dropout。\n",
    "        self.attn_dropout = nn.Dropout(args.dropout)\n",
    "        self.resid_dropout = nn.Dropout(args.dropout)\n",
    "        # 保存dropout概率。\n",
    "        self.dropout = args.dropout\n",
    "\n",
    "        # 检查是否使用Flash Attention（需要PyTorch >= 2.0）。\n",
    "        self.flash = hasattr(torch.nn.functional, 'scaled_dot_product_attention')\n",
    "        if not self.flash:\n",
    "            # 若不支持Flash Attention，则使用手动实现的注意力机制，并设置mask。\n",
    "            print(\"WARNING: using slow attention. Flash Attention requires PyTorch >= 2.0\")\n",
    "            # 创建一个上三角矩阵，用于遮蔽未来信息。\n",
    "            mask = torch.full((1, 1, args.max_seq_len, args.max_seq_len), float(\"-inf\"))\n",
    "            mask = torch.triu(mask, diagonal=1)\n",
    "            # 注册为模型的缓冲区\n",
    "            self.register_buffer(\"mask\", mask)\n",
    "\n",
    "    def forward(self, x: torch.Tensor, freqs_cos: torch.Tensor, freqs_sin: torch.Tensor):\n",
    "        # 获取批次大小和序列长度。\n",
    "        bsz, seqlen, _ = x.shape\n",
    "\n",
    "        # 计算查询（Q）、键（K）、值（V）。\n",
    "        xq, xk, xv = self.wq(x), self.wk(x), self.wv(x)\n",
    "        # 调整形状以适应头的维度。\n",
    "        xq = xq.view(bsz, seqlen, self.n_local_heads, self.head_dim)\n",
    "        xk = xk.view(bsz, seqlen, self.n_local_kv_heads, self.head_dim)\n",
    "        xv = xv.view(bsz, seqlen, self.n_local_kv_heads, self.head_dim)\n",
    "\n",
    "        # 应用旋转位置嵌入（RoPE）。\n",
    "        xq, xk = apply_rotary_emb(xq, xk, freqs_cos, freqs_sin)\n",
    "\n",
    "        # 对键和值进行扩展以适应重复次数。\n",
    "        xk = repeat_kv(xk, self.n_rep)\n",
    "        xv = repeat_kv(xv, self.n_rep)\n",
    "\n",
    "        # 将头作为批次维度处理。\n",
    "        xq = xq.transpose(1, 2)\n",
    "        xk = xk.transpose(1, 2)\n",
    "        xv = xv.transpose(1, 2)\n",
    "\n",
    "        # 根据是否支持Flash Attention，选择实现方式。\n",
    "        if self.flash:\n",
    "            # 使用Flash Attention。\n",
    "            output = torch.nn.functional.scaled_dot_product_attention(xq, xk, xv, attn_mask=None, dropout_p=self.dropout if self.training else 0.0, is_causal=True)\n",
    "        else:\n",
    "            # 使用手动实现的注意力机制。\n",
    "            scores = torch.matmul(xq, xk.transpose(2, 3)) / math.sqrt(self.head_dim)\n",
    "            assert hasattr(self, 'mask')\n",
    "            scores = scores + self.mask[:, :, :seqlen, :seqlen]\n",
    "            scores = F.softmax(scores.float(), dim=-1).type_as(xq)\n",
    "            scores = self.attn_dropout(scores)\n",
    "            output = torch.matmul(scores, xv)\n",
    "\n",
    "        # 恢复时间维度并合并头。\n",
    "        output = output.transpose(1, 2).contiguous().view(bsz, seqlen, -1)\n",
    "\n",
    "        # 最终投影回残差流。\n",
    "        output = self.wo(output)\n",
    "        output = self.resid_dropout(output)\n",
    "        return output"
   ]
  },
  {
   "cell_type": "code",
   "execution_count": 45,
   "metadata": {},
   "outputs": [
    {
     "name": "stdout",
     "output_type": "stream",
     "text": [
      "tensor([[[[-inf, -inf, -inf, -inf, -inf, -inf],\n",
      "          [-inf, -inf, -inf, -inf, -inf, -inf],\n",
      "          [-inf, -inf, -inf, -inf, -inf, -inf],\n",
      "          [-inf, -inf, -inf, -inf, -inf, -inf],\n",
      "          [-inf, -inf, -inf, -inf, -inf, -inf],\n",
      "          [-inf, -inf, -inf, -inf, -inf, -inf]]]])\n",
      "tensor([[[[0., -inf, -inf, -inf, -inf, -inf],\n",
      "          [0., 0., -inf, -inf, -inf, -inf],\n",
      "          [0., 0., 0., -inf, -inf, -inf],\n",
      "          [0., 0., 0., 0., -inf, -inf],\n",
      "          [0., 0., 0., 0., 0., -inf],\n",
      "          [0., 0., 0., 0., 0., 0.]]]])\n"
     ]
    }
   ],
   "source": [
    "mask = torch.full((1, 1, 6, 6), float(\"-inf\"))\n",
    "print(mask)\n",
    "mask = torch.triu(mask, diagonal=1)\n",
    "print(mask)"
   ]
  },
  {
   "cell_type": "code",
   "execution_count": 56,
   "metadata": {},
   "outputs": [
    {
     "name": "stdout",
     "output_type": "stream",
     "text": [
      "torch.Size([50, 144]) torch.Size([50, 144])\n"
     ]
    },
    {
     "name": "stderr",
     "output_type": "stream",
     "text": [
      "Traceback (most recent call last):\n",
      "  File \"f:\\miniconda\\install\\envs\\nlp\\lib\\site-packages\\debugpy\\_vendored\\pydevd\\_pydevd_bundle\\pydevd_vars.py\", line 624, in change_attr_expression\n",
      "    value = eval(expression, frame.f_globals, frame.f_locals)\n",
      "  File \"<string>\", line 1\n",
      "    tensor([[[-0.6086, -0.0233, -0.4982,  ..., -0.0884,  0.3996, -0.0289],         [-0.4072,  0.1747, -0.3251,  ...,  0.1759,  0.5822, -0.3738],         [-0.5547,  0.1017, -0.6729,  ..., -0.0168, -0.1436, -0.0081],         ...,         [-0.6012, -0.1039, -0.6057,  ...,  0.0770,  0.2393,  0.1426],         [-0.6042,  0.3118, -0.3081,  ..., -0.0017,  0.1426, -0.0581],         [-0.2958,  0.4100, -0.6251,  ...,  0.0133,  0.4780,  0.2772]],        [[-0.7364,  0.1893, -0.6148,  ...,  0.1761,  0.1788,  0.1780],         [-0.5823,  0.3000, -0.2029,  ..., -0.0164,  0.1293, -0.0359],         [-0.5836, -0.0185, -0.4734,  ...,  0.0971,  0.2520,  0.2106],         ...,         [-0.8891, -0.1100, -0.3439,  ..., -0.0887, -0.0505, -0.3029],         [-0.8420, -0.1348, -0.2842,  ...,  0.1674,  0.2454,  0.0992],         [-0.4257, -0.1273, -0.9501,  ...,  0.2021,  0.5524,  0.0754]]],       grad_fn=<UnsafeViewBackward0>)\n",
      "                                                                                                                                                                                                                                                                                                                                                                                                                                                                                                                                                                                                                                                                                                                                                                                                                                                                                                                        ^\n",
      "SyntaxError: invalid syntax\n"
     ]
    },
    {
     "ename": "AssertionError",
     "evalue": "",
     "output_type": "error",
     "traceback": [
      "\u001b[1;31m---------------------------------------------------------------------------\u001b[0m",
      "\u001b[1;31mAssertionError\u001b[0m                            Traceback (most recent call last)",
      "Cell \u001b[1;32mIn[56], line 33\u001b[0m\n\u001b[0;32m     30\u001b[0m \u001b[38;5;28mprint\u001b[39m(freqs_cos\u001b[38;5;241m.\u001b[39mshape, freqs_sin\u001b[38;5;241m.\u001b[39mshape)\n\u001b[0;32m     32\u001b[0m \u001b[38;5;66;03m# 运行Attention模型\u001b[39;00m\n\u001b[1;32m---> 33\u001b[0m output \u001b[38;5;241m=\u001b[39m \u001b[43mattention_model\u001b[49m\u001b[43m(\u001b[49m\u001b[43mx\u001b[49m\u001b[43m,\u001b[49m\u001b[43m \u001b[49m\u001b[43mfreqs_cos\u001b[49m\u001b[43m,\u001b[49m\u001b[43m \u001b[49m\u001b[43mfreqs_sin\u001b[49m\u001b[43m)\u001b[49m\n\u001b[0;32m     35\u001b[0m \u001b[38;5;28mprint\u001b[39m(\u001b[38;5;124m\"\u001b[39m\u001b[38;5;124mOutput shape:\u001b[39m\u001b[38;5;124m\"\u001b[39m, output\u001b[38;5;241m.\u001b[39mshape)\n",
      "File \u001b[1;32mf:\\miniconda\\install\\envs\\nlp\\lib\\site-packages\\torch\\nn\\modules\\module.py:1501\u001b[0m, in \u001b[0;36mModule._call_impl\u001b[1;34m(self, *args, **kwargs)\u001b[0m\n\u001b[0;32m   1496\u001b[0m \u001b[38;5;66;03m# If we don't have any hooks, we want to skip the rest of the logic in\u001b[39;00m\n\u001b[0;32m   1497\u001b[0m \u001b[38;5;66;03m# this function, and just call forward.\u001b[39;00m\n\u001b[0;32m   1498\u001b[0m \u001b[38;5;28;01mif\u001b[39;00m \u001b[38;5;129;01mnot\u001b[39;00m (\u001b[38;5;28mself\u001b[39m\u001b[38;5;241m.\u001b[39m_backward_hooks \u001b[38;5;129;01mor\u001b[39;00m \u001b[38;5;28mself\u001b[39m\u001b[38;5;241m.\u001b[39m_backward_pre_hooks \u001b[38;5;129;01mor\u001b[39;00m \u001b[38;5;28mself\u001b[39m\u001b[38;5;241m.\u001b[39m_forward_hooks \u001b[38;5;129;01mor\u001b[39;00m \u001b[38;5;28mself\u001b[39m\u001b[38;5;241m.\u001b[39m_forward_pre_hooks\n\u001b[0;32m   1499\u001b[0m         \u001b[38;5;129;01mor\u001b[39;00m _global_backward_pre_hooks \u001b[38;5;129;01mor\u001b[39;00m _global_backward_hooks\n\u001b[0;32m   1500\u001b[0m         \u001b[38;5;129;01mor\u001b[39;00m _global_forward_hooks \u001b[38;5;129;01mor\u001b[39;00m _global_forward_pre_hooks):\n\u001b[1;32m-> 1501\u001b[0m     \u001b[38;5;28;01mreturn\u001b[39;00m forward_call(\u001b[38;5;241m*\u001b[39margs, \u001b[38;5;241m*\u001b[39m\u001b[38;5;241m*\u001b[39mkwargs)\n\u001b[0;32m   1502\u001b[0m \u001b[38;5;66;03m# Do not call functions when jit is used\u001b[39;00m\n\u001b[0;32m   1503\u001b[0m full_backward_hooks, non_full_backward_hooks \u001b[38;5;241m=\u001b[39m [], []\n",
      "Cell \u001b[1;32mIn[44], line 56\u001b[0m, in \u001b[0;36mAttention.forward\u001b[1;34m(self, x, freqs_cos, freqs_sin)\u001b[0m\n\u001b[0;32m     53\u001b[0m xv \u001b[38;5;241m=\u001b[39m xv\u001b[38;5;241m.\u001b[39mview(bsz, seqlen, \u001b[38;5;28mself\u001b[39m\u001b[38;5;241m.\u001b[39mn_local_kv_heads, \u001b[38;5;28mself\u001b[39m\u001b[38;5;241m.\u001b[39mhead_dim)\n\u001b[0;32m     55\u001b[0m \u001b[38;5;66;03m# 应用旋转位置嵌入（RoPE）。\u001b[39;00m\n\u001b[1;32m---> 56\u001b[0m xq, xk \u001b[38;5;241m=\u001b[39m \u001b[43mapply_rotary_emb\u001b[49m\u001b[43m(\u001b[49m\u001b[43mxq\u001b[49m\u001b[43m,\u001b[49m\u001b[43m \u001b[49m\u001b[43mxk\u001b[49m\u001b[43m,\u001b[49m\u001b[43m \u001b[49m\u001b[43mfreqs_cos\u001b[49m\u001b[43m,\u001b[49m\u001b[43m \u001b[49m\u001b[43mfreqs_sin\u001b[49m\u001b[43m)\u001b[49m\n\u001b[0;32m     58\u001b[0m \u001b[38;5;66;03m# 对键和值进行扩展以适应重复次数。\u001b[39;00m\n\u001b[0;32m     59\u001b[0m xk \u001b[38;5;241m=\u001b[39m repeat_kv(xk, \u001b[38;5;28mself\u001b[39m\u001b[38;5;241m.\u001b[39mn_rep)\n",
      "Cell \u001b[1;32mIn[41], line 13\u001b[0m, in \u001b[0;36mapply_rotary_emb\u001b[1;34m(xq, xk, freqs_cos, freqs_sin)\u001b[0m\n\u001b[0;32m     10\u001b[0m xk_r, xk_i \u001b[38;5;241m=\u001b[39m xk\u001b[38;5;241m.\u001b[39mfloat()\u001b[38;5;241m.\u001b[39mreshape(xk\u001b[38;5;241m.\u001b[39mshape[:\u001b[38;5;241m-\u001b[39m\u001b[38;5;241m1\u001b[39m] \u001b[38;5;241m+\u001b[39m (\u001b[38;5;241m-\u001b[39m\u001b[38;5;241m1\u001b[39m, \u001b[38;5;241m2\u001b[39m))\u001b[38;5;241m.\u001b[39munbind(\u001b[38;5;241m-\u001b[39m\u001b[38;5;241m1\u001b[39m)\n\u001b[0;32m     12\u001b[0m \u001b[38;5;66;03m# 重新塑形频率张量以进行广播\u001b[39;00m\n\u001b[1;32m---> 13\u001b[0m freqs_cos \u001b[38;5;241m=\u001b[39m \u001b[43mreshape_for_broadcast\u001b[49m\u001b[43m(\u001b[49m\u001b[43mfreqs_cos\u001b[49m\u001b[43m,\u001b[49m\u001b[43m \u001b[49m\u001b[43mxq_r\u001b[49m\u001b[43m)\u001b[49m\n\u001b[0;32m     14\u001b[0m freqs_sin \u001b[38;5;241m=\u001b[39m reshape_for_broadcast(freqs_sin, xq_r)\n\u001b[0;32m     16\u001b[0m \u001b[38;5;66;03m# 应用旋转，分别计算旋转后的实部和虚部\u001b[39;00m\n",
      "Cell \u001b[1;32mIn[40], line 4\u001b[0m, in \u001b[0;36mreshape_for_broadcast\u001b[1;34m(freqs_cis, x)\u001b[0m\n\u001b[0;32m      2\u001b[0m ndim \u001b[38;5;241m=\u001b[39m x\u001b[38;5;241m.\u001b[39mndim  \u001b[38;5;66;03m# 获取x的维度数量\u001b[39;00m\n\u001b[0;32m      3\u001b[0m \u001b[38;5;28;01massert\u001b[39;00m \u001b[38;5;241m0\u001b[39m \u001b[38;5;241m<\u001b[39m\u001b[38;5;241m=\u001b[39m \u001b[38;5;241m1\u001b[39m \u001b[38;5;241m<\u001b[39m ndim  \u001b[38;5;66;03m# 确保x至少有两个维度\u001b[39;00m\n\u001b[1;32m----> 4\u001b[0m \u001b[38;5;28;01massert\u001b[39;00m freqs_cis\u001b[38;5;241m.\u001b[39mshape \u001b[38;5;241m==\u001b[39m (x\u001b[38;5;241m.\u001b[39mshape[\u001b[38;5;241m1\u001b[39m], x\u001b[38;5;241m.\u001b[39mshape[\u001b[38;5;241m-\u001b[39m\u001b[38;5;241m1\u001b[39m])  \u001b[38;5;66;03m# 确保频率张量的形状与x的第二个维度和最后一个维度匹配\u001b[39;00m\n\u001b[0;32m      5\u001b[0m shape \u001b[38;5;241m=\u001b[39m [d \u001b[38;5;28;01mif\u001b[39;00m i \u001b[38;5;241m==\u001b[39m \u001b[38;5;241m1\u001b[39m \u001b[38;5;129;01mor\u001b[39;00m i \u001b[38;5;241m==\u001b[39m ndim \u001b[38;5;241m-\u001b[39m \u001b[38;5;241m1\u001b[39m \u001b[38;5;28;01melse\u001b[39;00m \u001b[38;5;241m1\u001b[39m \u001b[38;5;28;01mfor\u001b[39;00m i, d \u001b[38;5;129;01min\u001b[39;00m \u001b[38;5;28menumerate\u001b[39m(x\u001b[38;5;241m.\u001b[39mshape)]  \u001b[38;5;66;03m# 生成一个新的形状，除了第二个和最后一个维度，其他维度设置为1\u001b[39;00m\n\u001b[0;32m      6\u001b[0m \u001b[38;5;28;01mreturn\u001b[39;00m freqs_cis\u001b[38;5;241m.\u001b[39mview(shape)\n",
      "\u001b[1;31mAssertionError\u001b[0m: "
     ]
    }
   ],
   "source": [
    "class ModelArgs:\n",
    "    def __init__(self, dim, n_heads, n_kv_heads, max_seq_len, dropout):\n",
    "        self.dim = dim\n",
    "        self.n_heads = n_heads\n",
    "        self.n_kv_heads = n_kv_heads\n",
    "        self.max_seq_len = max_seq_len\n",
    "        self.dropout = dropout\n",
    "\n",
    "args = ModelArgs(\n",
    "    dim=288, \n",
    "    n_heads=6, \n",
    "    n_kv_heads=6, \n",
    "    max_seq_len=100,  # 假设序列的最大长度为100\n",
    "    dropout=0.0\n",
    ")\n",
    "\n",
    "# 创建Attention实例\n",
    "attention_model = Attention(args)\n",
    "\n",
    "# 模拟输入数据\n",
    "batch_size = 2\n",
    "seq_len = 50  # 假设实际使用的序列长度为50\n",
    "dim = args.dim\n",
    "x = torch.rand(batch_size, seq_len, dim)  # 随机生成输入张量\n",
    "# freqs_cos = torch.rand(seq_len, dim // 2)  # 模拟cos频率，用于RoPE\n",
    "# freqs_sin = torch.rand(seq_len, dim // 2)  # 模拟sin频率，用于RoPE\n",
    "\n",
    "freqs_cos, freqs_sin = precompute_freqs_cis(dim, seq_len)\n",
    "\n",
    "print(freqs_cos.shape, freqs_sin.shape)\n",
    "\n",
    "# 运行Attention模型\n",
    "output = attention_model(x, freqs_cos, freqs_sin)\n",
    "\n",
    "print(\"Output shape:\", output.shape)"
   ]
  },
  {
   "cell_type": "code",
   "execution_count": 47,
   "metadata": {},
   "outputs": [
    {
     "name": "stdout",
     "output_type": "stream",
     "text": [
      "Assertion error: \n"
     ]
    }
   ],
   "source": [
    "x = torch.rand(batch_size, seq_len, dim)  # 假设输入张量\n",
    "try:\n",
    "    freqs_cos, freqs_sin = precompute_freqs_cis(dim=dim, end=seq_len)\n",
    "    freqs_cos_b = reshape_for_broadcast(freqs_cos, x)\n",
    "    freqs_sin_b = reshape_for_broadcast(freqs_sin, x)\n",
    "    print(\"Broadcast shapes:\", freqs_cos_b.shape, freqs_sin_b.shape)\n",
    "except AssertionError as e:\n",
    "    print(\"Assertion error:\", e)\n"
   ]
  }
 ],
 "metadata": {
  "kernelspec": {
   "display_name": "nlp",
   "language": "python",
   "name": "python3"
  },
  "language_info": {
   "codemirror_mode": {
    "name": "ipython",
    "version": 3
   },
   "file_extension": ".py",
   "mimetype": "text/x-python",
   "name": "python",
   "nbconvert_exporter": "python",
   "pygments_lexer": "ipython3",
   "version": "3.10.12"
  }
 },
 "nbformat": 4,
 "nbformat_minor": 2
}
