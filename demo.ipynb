{
 "cells": [
  {
   "cell_type": "code",
   "execution_count": 1,
   "metadata": {},
   "outputs": [],
   "source": [
    "import math\n",
    "import struct\n",
    "import inspect\n",
    "from dataclasses import dataclass\n",
    "from typing import Any, Optional, Tuple\n",
    "\n",
    "import numpy as np\n",
    "import torch\n",
    "import torch.nn.functional as F\n",
    "from torch import nn"
   ]
  },
  {
   "cell_type": "code",
   "execution_count": 2,
   "metadata": {},
   "outputs": [],
   "source": [
    "@dataclass\n",
    "class ModelArgs:\n",
    "    # default hyperparameters for the Llama 7B model\n",
    "    dim: int = 4096\n",
    "    n_layers: int = 32\n",
    "    n_heads: int = 32\n",
    "    n_kv_heads: Optional[int] = None\n",
    "    vocab_size: int = 32000\n",
    "    hidden_dim: Optional[int] = None\n",
    "    multiple_of: int = 256  # MLP hidden layer size will be multiple of\n",
    "    norm_eps: float = 1e-5\n",
    "    max_seq_len: int = 2048\n",
    "    dropout: float = 0.0"
   ]
  },
  {
   "cell_type": "code",
   "execution_count": 3,
   "metadata": {},
   "outputs": [],
   "source": [
    "args = ModelArgs()"
   ]
  },
  {
   "cell_type": "markdown",
   "metadata": {},
   "source": [
    "Llama2的RMSNorm层的公式如下：\n",
    "\n",
    "$$\\text{RMSNorm}(x) = \\frac{x}{\\sqrt{\\frac{1}{n}\\sum_{i=1}^{n}w_i^2 + \\epsilon}}$$\n",
    "\n",
    "其中：\n",
    "\n",
    "- ( $x$ ) 是层的输入。\n",
    "- ( $w_i$ ) 代表层的权重。\n",
    "- ( $n$ ) 是权重的数量。\n",
    "- ( $\\epsilon$ ) 是一个小常数，用于数值稳定性（以避免除以零的情况）。"
   ]
  },
  {
   "cell_type": "code",
   "execution_count": 8,
   "metadata": {},
   "outputs": [],
   "source": [
    "class RMSNorm(torch.nn.Module):\n",
    "    def __init__(self, dim: int, eps: float):\n",
    "        super().__init__()\n",
    "        self.eps = eps\n",
    "        self.weight = nn.Parameter(torch.ones(dim))\n",
    "\n",
    "    def _norm(self, x):\n",
    "        return x * torch.rsqrt(x.pow(2).mean(-1, keepdim=True) + self.eps)\n",
    "\n",
    "    def forward(self, x):\n",
    "        output = self._norm(x.float()).type_as(x)\n",
    "        return output * self.weight"
   ]
  },
  {
   "cell_type": "code",
   "execution_count": 9,
   "metadata": {},
   "outputs": [],
   "source": [
    "norm = RMSNorm(dim=args.dim, eps=args.norm_eps)"
   ]
  },
  {
   "cell_type": "code",
   "execution_count": 17,
   "metadata": {},
   "outputs": [
    {
     "name": "stdout",
     "output_type": "stream",
     "text": [
      "tensor([[[-0.4045,  1.2928,  0.5496,  ...,  1.0508, -0.0746,  1.3544],\n",
      "         [-0.2118, -0.4550, -0.3683,  ...,  1.4466, -0.1933,  0.8179],\n",
      "         [-1.4608, -1.1372, -1.0112,  ...,  2.1685, -0.1298,  1.0042],\n",
      "         ...,\n",
      "         [-1.2684,  1.1784,  0.3849,  ...,  0.8639, -0.0211,  0.9200],\n",
      "         [-0.1934,  1.0352,  0.2050,  ..., -0.7670,  2.0860,  0.3994],\n",
      "         [ 1.4662, -0.1603, -0.2214,  ..., -0.4009, -0.0426, -2.1020]]])\n",
      "tensor([[[-0.3914,  1.2511,  0.5318,  ...,  1.0169, -0.0722,  1.3107],\n",
      "         [-0.2092, -0.4494, -0.3638,  ...,  1.4288, -0.1909,  0.8079],\n",
      "         [-1.4585, -1.1354, -1.0096,  ...,  2.1651, -0.1296,  1.0026],\n",
      "         ...,\n",
      "         [-1.2429,  1.1547,  0.3771,  ...,  0.8465, -0.0207,  0.9015],\n",
      "         [-0.1934,  1.0352,  0.2050,  ..., -0.7671,  2.0861,  0.3995],\n",
      "         [ 1.4526, -0.1588, -0.2194,  ..., -0.3972, -0.0423, -2.0825]]],\n",
      "       grad_fn=<MulBackward0>)\n"
     ]
    }
   ],
   "source": [
    "# 写一个关于norm的测试\n",
    "\n",
    "x = torch.randn(1, 50, 4096)\n",
    "print(x)\n",
    "print(norm(x))"
   ]
  },
  {
   "cell_type": "code",
   "execution_count": 18,
   "metadata": {},
   "outputs": [],
   "source": [
    "def precompute_freqs_cis(dim: int, end: int, theta: float = 10000.0):\n",
    "    freqs = 1.0 / (theta ** (torch.arange(0, dim, 2)[: (dim // 2)].float() / dim))\n",
    "    t = torch.arange(end, device=freqs.device)  # type: ignore\n",
    "    freqs = torch.outer(t, freqs).float()  # type: ignore\n",
    "    freqs_cos = torch.cos(freqs)  # real part\n",
    "    freqs_sin = torch.sin(freqs)  # imaginary part\n",
    "    return freqs_cos, freqs_sin"
   ]
  },
  {
   "cell_type": "code",
   "execution_count": null,
   "metadata": {},
   "outputs": [],
   "source": []
  }
 ],
 "metadata": {
  "kernelspec": {
   "display_name": "nlp",
   "language": "python",
   "name": "python3"
  },
  "language_info": {
   "codemirror_mode": {
    "name": "ipython",
    "version": 3
   },
   "file_extension": ".py",
   "mimetype": "text/x-python",
   "name": "python",
   "nbconvert_exporter": "python",
   "pygments_lexer": "ipython3",
   "version": "3.10.13"
  }
 },
 "nbformat": 4,
 "nbformat_minor": 2
}
